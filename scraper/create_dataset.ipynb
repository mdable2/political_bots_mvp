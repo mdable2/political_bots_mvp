{
 "cells": [
  {
   "cell_type": "code",
   "execution_count": null,
   "metadata": {},
   "outputs": [],
   "source": [
    "import pandas as pd\n",
    "import pickle\n",
    "from typing import Set, List"
   ]
  },
  {
   "cell_type": "code",
   "execution_count": null,
   "metadata": {},
   "outputs": [],
   "source": [
    "class TranscriptObject():\n",
    "    keywords: Set[str]\n",
    "    text: str\n",
    "    speaker: str\n",
    "\n",
    "    def __init__(self, keywords, text, speaker) -> None:\n",
    "        self.keywords = keywords\n",
    "        self.text = text\n",
    "        self.speaker = speaker\n",
    "\n",
    "    def __repr__(self) -> str:\n",
    "        return f\"TranscriptObject()\\nkeywords: {self.keywords}\\nspeaker: {self.speaker}\\ntext: {self.text}\\n\"\n",
    "    \n",
    "    def __str__(self) -> str:\n",
    "        return f\"keywords: {self.keywords}\\nspeaker: {self.speaker}\\ntext: {self.text}\\n\"\n",
    "\n",
    "class TranscriptPage():\n",
    "    title: str\n",
    "    keywords: Set[str]\n",
    "    speakers: Set[str]\n",
    "    transcript_objects: List[TranscriptObject]\n",
    "\n",
    "    def __init__(self, title, keywords, speakers, transcript_objects) -> None:\n",
    "        self.title = title\n",
    "        self.keywords = keywords\n",
    "        self.speakers = speakers\n",
    "        self.transcript_objects = transcript_objects\n",
    "    \n",
    "    def __repr__(self) -> str:\n",
    "        return f\"TranscriptPage()\\ntitle: {self.title}\\nkeywords: {self.keywords}\\nspeakers: {self.speakers}\\ntranscript_objects: {self.transcript_objects}\\n\"\n",
    "    \n",
    "    def __str__(self) -> str:\n",
    "        return f\"title: {self.title}\\nkeywords: {self.keywords}\\nspeakers: {self.speakers}\\ntranscript_objects: {self.transcript_objects}\\n\"     \n"
   ]
  },
  {
   "cell_type": "code",
   "execution_count": null,
   "metadata": {},
   "outputs": [],
   "source": [
    "with open('../data/trump_transcripts.pkl', 'rb') as f:\n",
    "    trump_data: List[TranscriptPage] = pickle.load(f)"
   ]
  },
  {
   "cell_type": "code",
   "execution_count": null,
   "metadata": {},
   "outputs": [],
   "source": [
    "with open(\"../data/biden_transcripts.pkl\", \"rb\") as f:\n",
    "    biden_data: List[TranscriptPage] = pickle.load(f)"
   ]
  },
  {
   "cell_type": "code",
   "execution_count": null,
   "metadata": {},
   "outputs": [],
   "source": [
    "for transcript_page in biden_data:\n",
    "    for transcript_object in transcript_page.transcript_objects:\n",
    "        for word in transcript_object.text.split(\" \"):\n",
    "            if word in keywords:\n",
    "                transcript_page.keywords.add(word)\n",
    "                transcript_object.keywords.add(word)"
   ]
  },
  {
   "cell_type": "code",
   "execution_count": null,
   "metadata": {},
   "outputs": [],
   "source": [
    "biden_data"
   ]
  },
  {
   "cell_type": "code",
   "execution_count": null,
   "metadata": {},
   "outputs": [],
   "source": [
    "keywords = set()\n",
    "\n",
    "for data in trump_data:\n",
    "    for kw in data.keywords:\n",
    "        keywords.add(kw)"
   ]
  },
  {
   "cell_type": "code",
   "execution_count": null,
   "metadata": {},
   "outputs": [],
   "source": [
    "len(keywords)"
   ]
  },
  {
   "cell_type": "code",
   "execution_count": null,
   "metadata": {},
   "outputs": [],
   "source": [
    "ways_to_ask_questions = [\n",
    "    \"how do you feel about\",\n",
    "    \"what is your opinion on\",\n",
    "    \"what is your viewpoint for\"\n",
    "]"
   ]
  },
  {
   "cell_type": "code",
   "execution_count": null,
   "metadata": {},
   "outputs": [],
   "source": [
    "speakers = set()\n",
    "for data in biden_data:\n",
    "    for objs in data.transcript_objects:\n",
    "        speakers.add(objs.speaker)\n",
    "\n",
    "print(\"Joe Biden\" in speakers)"
   ]
  },
  {
   "cell_type": "code",
   "execution_count": null,
   "metadata": {},
   "outputs": [],
   "source": [
    "import random\n",
    "\n",
    "conversations = []\n",
    "\n",
    "convo_texts = []\n",
    "convo_speeches = []\n",
    "\n",
    "#   {\n",
    "#     \"Context\": \"Please remind me of calling to Jessie at 2PM.\",\n",
    "#     \"Knowledge\": \"reminder_contact_name is Jessie, reminder_time is 2PM\",\n",
    "#     \"Response\": \"Sure, set the reminder: call to Jesse at 2PM\"\n",
    "#   },\n",
    "\n",
    "for data in biden_data:\n",
    "    for objs in data.transcript_objects:\n",
    "        if len(objs.keywords) > 0 and objs.speaker == \"Joe Biden\":\n",
    "            for kw in objs.keywords:\n",
    "                question_start = random.choice(ways_to_ask_questions)\n",
    "                question = f\"{question_start} {kw}\"\n",
    "                knowledge = \"\"\n",
    "                response = objs.text\n",
    "                conversations.append({\"Context\": question, \"Knowledge\": knowledge, \"Response\": response})\n",
    "                convo_texts.append(response)\n",
    "                convo_speeches.append(data.title)"
   ]
  },
  {
   "cell_type": "code",
   "execution_count": null,
   "metadata": {},
   "outputs": [],
   "source": [
    "len(conversations)"
   ]
  },
  {
   "cell_type": "code",
   "execution_count": null,
   "metadata": {},
   "outputs": [],
   "source": [
    "conversations"
   ]
  },
  {
   "cell_type": "code",
   "execution_count": null,
   "metadata": {},
   "outputs": [],
   "source": [
    "import random\n",
    "random.shuffle(conversations)"
   ]
  },
  {
   "cell_type": "code",
   "execution_count": null,
   "metadata": {},
   "outputs": [],
   "source": [
    "train_convos = conversations[0:50000]\n",
    "val_convos = conversations[368892:378892]\n",
    "test_convos = conversations[388892:398892]"
   ]
  },
  {
   "cell_type": "code",
   "execution_count": null,
   "metadata": {},
   "outputs": [],
   "source": [
    "import json\n",
    "import jsonlines\n",
    "\n",
    "\n",
    "with jsonlines.open(\"../data/biden_convos_train.json\", mode=\"w\") as writer:\n",
    "    for i in train_convos:\n",
    "        writer.write(i)\n",
    "with jsonlines.open(\"../data/biden_convos_val.json\", mode=\"w\") as writer:\n",
    "    for i in val_convos:\n",
    "        writer.write(i)\n",
    "with jsonlines.open(\"../data/biden_convos_test.json\", mode=\"w\") as writer:\n",
    "    for i in test_convos:\n",
    "        writer.write(i)"
   ]
  },
  {
   "cell_type": "code",
   "execution_count": null,
   "metadata": {},
   "outputs": [],
   "source": [
    "from sentence_transformers import SentenceTransformer, util\n",
    "import torch\n",
    "\n",
    "model = SentenceTransformer('all-MiniLM-L6-v2')\n",
    "\n",
    "embeddings = model.encode(convo_texts[0:100000], convert_to_tensor=True)"
   ]
  },
  {
   "cell_type": "code",
   "execution_count": null,
   "metadata": {},
   "outputs": [],
   "source": [
    "query = model.encode([\"what is your view on abortion?\"], convert_to_tensor=True)\n",
    "\n",
    "cosine_scores = util.cos_sim(embeddings, query)"
   ]
  },
  {
   "cell_type": "code",
   "execution_count": null,
   "metadata": {},
   "outputs": [],
   "source": [
    "indexes = torch.topk(cosine_scores.flatten(), 5).indices\n",
    "\n",
    "for index in indexes:\n",
    "    print(\"SPEECH:\", convo_speeches[index])\n",
    "    print(\"STATEMENT:\", convo_texts[index])\n",
    "    print()"
   ]
  }
 ],
 "metadata": {
  "kernelspec": {
   "display_name": "Python 3.8.13 ('reddit-broker-bot')",
   "language": "python",
   "name": "python3"
  },
  "language_info": {
   "codemirror_mode": {
    "name": "ipython",
    "version": 3
   },
   "file_extension": ".py",
   "mimetype": "text/x-python",
   "name": "python",
   "nbconvert_exporter": "python",
   "pygments_lexer": "ipython3",
   "version": "3.8.13"
  },
  "orig_nbformat": 4,
  "vscode": {
   "interpreter": {
    "hash": "5b34d518da11359c8874bc10f605785d3f9d53c4b331838af2472dadde228c72"
   }
  }
 },
 "nbformat": 4,
 "nbformat_minor": 2
}
